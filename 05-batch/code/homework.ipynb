{
 "cells": [
  {
   "cell_type": "markdown",
   "id": "0796e418",
   "metadata": {},
   "source": [
    "# Week 5 Homework"
   ]
  },
  {
   "cell_type": "markdown",
   "id": "3cc67aec",
   "metadata": {},
   "source": [
    "## Question 1:\n",
    "Install Spark and PySpark\n",
    "\n",
    "* Install Spark\n",
    "* Run PySpark\n",
    "* Create a local spark session\n",
    "* Execute spark.version.\n",
    "\n",
    "\n",
    "What's the output?"
   ]
  },
  {
   "cell_type": "code",
   "execution_count": 1,
   "id": "340db8be",
   "metadata": {},
   "outputs": [],
   "source": [
    "import os\n",
    "import sys\n",
    "\n",
    "os.environ['PYSPARK_PYTHON'] = sys.executable\n",
    "os.environ['PYSPARK_DRIVER_PYTHON'] = sys.executable"
   ]
  },
  {
   "cell_type": "code",
   "execution_count": 2,
   "id": "00bc6543",
   "metadata": {},
   "outputs": [],
   "source": [
    "import pyspark\n",
    "from pyspark.sql import SparkSession\n",
    "import urllib.request\n",
    "from pyspark.sql import types"
   ]
  },
  {
   "cell_type": "code",
   "execution_count": null,
   "id": "c2e0e16c",
   "metadata": {},
   "outputs": [],
   "source": [
    "urllib.request.urlretrieve('https://github.com/DataTalksClub/nyc-tlc-data/releases/download/fhv/fhv_tripdata_2019-10.csv.gz', 'fhv_tripdata_2019-10.csv.gz') "
   ]
  },
  {
   "cell_type": "code",
   "execution_count": 3,
   "id": "cd4a0f3d",
   "metadata": {},
   "outputs": [],
   "source": [
    "spark = (SparkSession.builder\n",
    "    .master(\"local[*]\") \n",
    "    .appName('test') \n",
    "    .getOrCreate())"
   ]
  },
  {
   "cell_type": "code",
   "execution_count": 4,
   "id": "eb3e4c36",
   "metadata": {},
   "outputs": [
    {
     "data": {
      "text/plain": [
       "'3.5.0'"
      ]
     },
     "execution_count": 4,
     "metadata": {},
     "output_type": "execute_result"
    }
   ],
   "source": [
    "spark.version"
   ]
  },
  {
   "cell_type": "markdown",
   "id": "41888606",
   "metadata": {},
   "source": [
    "## Question 2:\n",
    "FHV October 2019\n",
    "\n",
    "<br>Read the October 2019 FHV into a Spark Dataframe with a schema as we did in the lessons.\n",
    "<br>Repartition the Dataframe to 6 partitions and save it to parquet.\n",
    "<br>What is the average size of the Parquet (ending with .parquet extension) Files that were created (in MB)? Select the answer which most closely matches."
   ]
  },
  {
   "cell_type": "code",
   "execution_count": 6,
   "id": "5236cebd",
   "metadata": {},
   "outputs": [
    {
     "name": "stdout",
     "output_type": "stream",
     "text": [
      "-rw-r--r-- 1 oheld 197609 19M Feb 19 20:46 fhv_tripdata_2019-10.csv.gz\n"
     ]
    }
   ],
   "source": [
    "%%sh\n",
    "ls -lh fhv_tripdata_2019-10.csv.gz"
   ]
  },
  {
   "cell_type": "code",
   "execution_count": 33,
   "id": "c89e5444",
   "metadata": {},
   "outputs": [],
   "source": [
    "%%sh \n",
    "zcat fhv_tripdata_2019-10.csv.gz | head -n 5 > head.csv"
   ]
  },
  {
   "cell_type": "code",
   "execution_count": 34,
   "id": "93176fd5",
   "metadata": {},
   "outputs": [
    {
     "name": "stdout",
     "output_type": "stream",
     "text": [
      "dispatching_base_num,pickup_datetime,dropOff_datetime,PUlocationID,DOlocationID,SR_Flag,Affiliated_base_number\n",
      "B00009,2019-10-01 00:23:00,2019-10-01 00:35:00,264,264,,B00009\n",
      "B00013,2019-10-01 00:11:29,2019-10-01 00:13:22,264,264,,B00013\n",
      "B00014,2019-10-01 00:11:43,2019-10-01 00:37:20,264,264,,B00014\n",
      "B00014,2019-10-01 00:56:29,2019-10-01 00:57:47,264,264,,B00014\n"
     ]
    }
   ],
   "source": [
    "%%sh\n",
    "cat head.csv"
   ]
  },
  {
   "cell_type": "code",
   "execution_count": 35,
   "id": "0a3399a3",
   "metadata": {},
   "outputs": [],
   "source": [
    "schema = types.StructType([\n",
    "    types.StructField('dispatching_base_num', types.StringType(), True),\n",
    "    types.StructField('pickup_datetime', types.TimestampType(), True),\n",
    "    types.StructField('dropoff_datetime', types.TimestampType(), True),\n",
    "    types.StructField('PULocationID', types.IntegerType(), True),\n",
    "    types.StructField('DOLocationID', types.IntegerType(), True),\n",
    "    types.StructField('SR_Flag', types.BooleanType(), True),\n",
    "    types.StructField('Affiliated_base_number', types.StringType(), True)\n",
    "])"
   ]
  },
  {
   "cell_type": "code",
   "execution_count": 37,
   "id": "68bc8b72",
   "metadata": {},
   "outputs": [],
   "source": [
    "df = (spark.read\n",
    ".option(\"header\", \"true\")\n",
    ".schema(schema) \n",
    ".csv('fhv_tripdata_2019-10.csv.gz'))\n",
    "\n",
    "df = df.repartition(6)\n",
    "\n",
    "df.write.parquet('hw/fhv/2019/10/', compression=\"snappy\")"
   ]
  },
  {
   "cell_type": "code",
   "execution_count": 38,
   "id": "59fdb148",
   "metadata": {},
   "outputs": [
    {
     "name": "stdout",
     "output_type": "stream",
     "text": [
      "total 39M\n",
      "-rw-r--r-- 1 oheld 197609    0 Feb 19 21:03 _SUCCESS\n",
      "-rw-r--r-- 1 oheld 197609 6.4M Feb 19 21:03 part-00000-223f2dfe-312a-4910-aa9e-6ab17e78af88-c000.snappy.parquet\n",
      "-rw-r--r-- 1 oheld 197609 6.4M Feb 19 21:03 part-00001-223f2dfe-312a-4910-aa9e-6ab17e78af88-c000.snappy.parquet\n",
      "-rw-r--r-- 1 oheld 197609 6.4M Feb 19 21:03 part-00002-223f2dfe-312a-4910-aa9e-6ab17e78af88-c000.snappy.parquet\n",
      "-rw-r--r-- 1 oheld 197609 6.4M Feb 19 21:03 part-00003-223f2dfe-312a-4910-aa9e-6ab17e78af88-c000.snappy.parquet\n",
      "-rw-r--r-- 1 oheld 197609 6.4M Feb 19 21:03 part-00004-223f2dfe-312a-4910-aa9e-6ab17e78af88-c000.snappy.parquet\n",
      "-rw-r--r-- 1 oheld 197609 6.4M Feb 19 21:03 part-00005-223f2dfe-312a-4910-aa9e-6ab17e78af88-c000.snappy.parquet\n"
     ]
    }
   ],
   "source": [
    "%%sh\n",
    "ls hw/fhv/2019/10 -lh"
   ]
  },
  {
   "cell_type": "code",
   "execution_count": 39,
   "id": "58989b55",
   "metadata": {},
   "outputs": [],
   "source": [
    "df = spark.read.parquet('hw/fhv/2019/10/')"
   ]
  },
  {
   "cell_type": "markdown",
   "id": "48b01d2f",
   "metadata": {},
   "source": [
    "## Question 3:\n",
    "Count records\n",
    "<br>How many taxi trips were there on the 15th of October?\n",
    "<br>Consider only trips that started on the 15th of October."
   ]
  },
  {
   "cell_type": "code",
   "execution_count": 13,
   "id": "f7489aea",
   "metadata": {},
   "outputs": [],
   "source": [
    "from pyspark.sql import functions as F"
   ]
  },
  {
   "cell_type": "code",
   "execution_count": 40,
   "id": "6c2500fd",
   "metadata": {},
   "outputs": [
    {
     "data": {
      "text/plain": [
       "62610"
      ]
     },
     "execution_count": 40,
     "metadata": {},
     "output_type": "execute_result"
    }
   ],
   "source": [
    "(df\n",
    "    .withColumn('pickup_date', F.to_date(df.pickup_datetime)) \n",
    "    .filter(\"pickup_date = '2019-10-15'\") \n",
    "    .count())"
   ]
  },
  {
   "cell_type": "code",
   "execution_count": 41,
   "id": "dd7ae60d",
   "metadata": {},
   "outputs": [],
   "source": [
    "df.createOrReplaceTempView('fhv_2019_10')"
   ]
  },
  {
   "cell_type": "code",
   "execution_count": 42,
   "id": "6d47c147",
   "metadata": {},
   "outputs": [
    {
     "name": "stdout",
     "output_type": "stream",
     "text": [
      "+--------+\n",
      "|count(1)|\n",
      "+--------+\n",
      "|   62610|\n",
      "+--------+\n",
      "\n"
     ]
    }
   ],
   "source": [
    "spark.sql(\"\"\"\n",
    "SELECT\n",
    "    COUNT(1)\n",
    "FROM \n",
    "    fhv_2019_10\n",
    "WHERE\n",
    "    to_date(pickup_datetime) = '2019-10-15';\n",
    "\"\"\").show()"
   ]
  },
  {
   "cell_type": "markdown",
   "id": "ae3f533b",
   "metadata": {},
   "source": [
    "## Question 4:\n",
    "Longest trip for each day\n",
    "<br>What is the length of the longest trip in the dataset in hours?"
   ]
  },
  {
   "cell_type": "code",
   "execution_count": 43,
   "id": "7befe422",
   "metadata": {},
   "outputs": [
    {
     "data": {
      "text/plain": [
       "['dispatching_base_num',\n",
       " 'pickup_datetime',\n",
       " 'dropoff_datetime',\n",
       " 'PULocationID',\n",
       " 'DOLocationID',\n",
       " 'SR_Flag',\n",
       " 'Affiliated_base_number']"
      ]
     },
     "execution_count": 43,
     "metadata": {},
     "output_type": "execute_result"
    }
   ],
   "source": [
    "df.columns"
   ]
  },
  {
   "cell_type": "code",
   "execution_count": 57,
   "id": "279d9161",
   "metadata": {},
   "outputs": [
    {
     "name": "stdout",
     "output_type": "stream",
     "text": [
      "+-----------+-----------------+\n",
      "|pickup_date|    max(duration)|\n",
      "+-----------+-----------------+\n",
      "| 2019-10-28|         631152.5|\n",
      "| 2019-10-11|         631152.5|\n",
      "| 2019-10-31|87672.44083333334|\n",
      "| 2019-10-01|70128.02805555557|\n",
      "| 2019-10-17|           8794.0|\n",
      "+-----------+-----------------+\n",
      "\n"
     ]
    }
   ],
   "source": [
    "(df \n",
    "    .withColumn('duration', (df.dropoff_datetime.cast('long') - df.pickup_datetime.cast('long')) / F.lit(60) / F.lit(60) )\n",
    "    .withColumn('pickup_date', F.to_date(df.pickup_datetime)) \n",
    "    .groupBy('pickup_date') \n",
    "        .max('duration') \n",
    "    .orderBy('max(duration)', ascending=False)\n",
    "    .limit(5) \n",
    "    .show())"
   ]
  },
  {
   "cell_type": "code",
   "execution_count": 70,
   "id": "74cf0e8b",
   "metadata": {
    "scrolled": true
   },
   "outputs": [
    {
     "name": "stdout",
     "output_type": "stream",
     "text": [
      "+-----------+-----------------+\n",
      "|pickup_date|         duration|\n",
      "+-----------+-----------------+\n",
      "| 2019-10-28|         631152.5|\n",
      "| 2019-10-11|         631152.5|\n",
      "| 2019-10-31|87672.44083333334|\n",
      "| 2019-10-01|70128.02805555557|\n",
      "| 2019-10-17|           8794.0|\n",
      "+-----------+-----------------+\n",
      "\n"
     ]
    }
   ],
   "source": [
    "spark.sql(\"\"\"\n",
    "SELECT\n",
    "    to_date(pickup_datetime) AS pickup_date,\n",
    "    MAX((CAST(dropoff_datetime AS LONG) - CAST(pickup_datetime AS LONG)) / 60 / 60 ) AS duration\n",
    "FROM \n",
    "    fhv_2019_10\n",
    "GROUP BY\n",
    "    1\n",
    "ORDER BY\n",
    "    2 DESC\n",
    "LIMIT 5;\n",
    "\"\"\").show()"
   ]
  },
  {
   "cell_type": "markdown",
   "id": "4e13c545",
   "metadata": {},
   "source": [
    "## Question 5: User Interface\n",
    "Spark’s User Interface which shows the application's dashboard runs on which local port?\n",
    "\n",
    "* 80\n",
    "* 443\n",
    "* **4040**\n",
    "* 8080"
   ]
  },
  {
   "cell_type": "markdown",
   "id": "d915096b",
   "metadata": {},
   "source": [
    "## Question 6: Least frequent pickup location zone\n",
    "Load the zone lookup data into a temp view in Spark (zone data)\n",
    "<br> Using the zone lookup data and the FHV October 2019 data, what is the name of the LEAST frequent pickup location Zone?"
   ]
  },
  {
   "cell_type": "code",
   "execution_count": 58,
   "id": "f425cac6",
   "metadata": {},
   "outputs": [
    {
     "data": {
      "text/plain": [
       "('taxi_zone_lookup.csv', <http.client.HTTPMessage at 0x1a0365cc4a0>)"
      ]
     },
     "execution_count": 58,
     "metadata": {},
     "output_type": "execute_result"
    }
   ],
   "source": [
    "urllib.request.urlretrieve('https://github.com/DataTalksClub/nyc-tlc-data/releases/download/misc/taxi_zone_lookup.csv', 'taxi_zone_lookup.csv') "
   ]
  },
  {
   "cell_type": "code",
   "execution_count": 73,
   "id": "82498678",
   "metadata": {},
   "outputs": [],
   "source": [
    "taxi_zone_df = (spark.read\n",
    ".option(\"header\", \"true\")\n",
    ".option(\"inferSchema\", \"true\")\n",
    ".csv('taxi_zone_lookup.csv'))"
   ]
  },
  {
   "cell_type": "code",
   "execution_count": 62,
   "id": "b587b020",
   "metadata": {},
   "outputs": [],
   "source": [
    "taxi_zone_df.createOrReplaceTempView('taxi_zone_df')"
   ]
  },
  {
   "cell_type": "code",
   "execution_count": 69,
   "id": "0af34988",
   "metadata": {},
   "outputs": [
    {
     "name": "stdout",
     "output_type": "stream",
     "text": [
      "+--------------------+--------+\n",
      "|          pu_do_pair|count(1)|\n",
      "+--------------------+--------+\n",
      "|         Jamaica Bay|       1|\n",
      "|Governor's Island...|       2|\n",
      "| Green-Wood Cemetery|       5|\n",
      "|       Broad Channel|       8|\n",
      "|     Highbridge Park|      14|\n",
      "+--------------------+--------+\n",
      "\n"
     ]
    }
   ],
   "source": [
    "spark.sql(\"\"\"\n",
    "SELECT\n",
    "    CONCAT(pul.Zone) AS pu_do_pair,\n",
    "    COUNT(1)\n",
    "FROM \n",
    "    fhv_2019_10 fhv LEFT JOIN taxi_zone_df pul ON fhv.PULocationID = pul.LocationID\n",
    "GROUP BY \n",
    "    1\n",
    "ORDER BY\n",
    "    2 ASC\n",
    "LIMIT 5;\n",
    "\"\"\").show()\n",
    "## Jamaica Bay"
   ]
  }
 ],
 "metadata": {
  "kernelspec": {
   "display_name": "Python 3 (ipykernel)",
   "language": "python",
   "name": "python3"
  },
  "language_info": {
   "codemirror_mode": {
    "name": "ipython",
    "version": 3
   },
   "file_extension": ".py",
   "mimetype": "text/x-python",
   "name": "python",
   "nbconvert_exporter": "python",
   "pygments_lexer": "ipython3",
   "version": "3.12.1"
  }
 },
 "nbformat": 4,
 "nbformat_minor": 5
}
