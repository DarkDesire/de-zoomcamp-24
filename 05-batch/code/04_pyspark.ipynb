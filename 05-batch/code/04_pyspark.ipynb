{
 "cells": [
  {
   "cell_type": "code",
   "execution_count": 34,
   "id": "5fabab27",
   "metadata": {},
   "outputs": [],
   "source": [
    "import os\n",
    "import sys\n",
    "\n",
    "os.environ['PYSPARK_PYTHON'] = sys.executable\n",
    "os.environ['PYSPARK_DRIVER_PYTHON'] = sys.executable"
   ]
  },
  {
   "cell_type": "code",
   "execution_count": 35,
   "id": "07de9dc3",
   "metadata": {},
   "outputs": [],
   "source": [
    "import pyspark\n",
    "from pyspark.sql import SparkSession\n",
    "import urllib.request"
   ]
  },
  {
   "cell_type": "code",
   "execution_count": 36,
   "id": "ca5bbb06",
   "metadata": {},
   "outputs": [],
   "source": [
    "spark = (SparkSession.builder \n",
    "    .master(\"local[*]\") \n",
    "    .appName('test') \n",
    "    .getOrCreate())"
   ]
  },
  {
   "cell_type": "code",
   "execution_count": 37,
   "id": "cf8de204",
   "metadata": {},
   "outputs": [
    {
     "data": {
      "text/plain": [
       "('fhv_tripdata_2019-10.csv.gz', <http.client.HTTPMessage at 0x25aaf6a67b0>)"
      ]
     },
     "execution_count": 37,
     "metadata": {},
     "output_type": "execute_result"
    }
   ],
   "source": [
    "urllib.request.urlretrieve('https://github.com/DataTalksClub/nyc-tlc-data/releases/download/fhv/fhv_tripdata_2019-10.csv.gz', 'fhv_tripdata_2019-10.csv.gz') "
   ]
  },
  {
   "cell_type": "code",
   "execution_count": null,
   "id": "2a52087c",
   "metadata": {},
   "outputs": [],
   "source": [
    "%%sh\n",
    "zcat hv_tripdata_2019-10.csv.gz | wc -l"
   ]
  },
  {
   "cell_type": "code",
   "execution_count": 38,
   "id": "931021a7",
   "metadata": {},
   "outputs": [],
   "source": [
    "df = spark.read \\\n",
    "    .option(\"header\", \"true\") \\\n",
    "    .csv('fhv_tripdata_2019-10.csv.gz')"
   ]
  },
  {
   "cell_type": "code",
   "execution_count": 40,
   "id": "d44b7839",
   "metadata": {},
   "outputs": [
    {
     "name": "stdout",
     "output_type": "stream",
     "text": [
      "root\n",
      " |-- dispatching_base_num: string (nullable = true)\n",
      " |-- pickup_datetime: string (nullable = true)\n",
      " |-- dropOff_datetime: string (nullable = true)\n",
      " |-- PUlocationID: string (nullable = true)\n",
      " |-- DOlocationID: string (nullable = true)\n",
      " |-- SR_Flag: string (nullable = true)\n",
      " |-- Affiliated_base_number: string (nullable = true)\n",
      "\n"
     ]
    }
   ],
   "source": [
    "df.printSchema()"
   ]
  },
  {
   "cell_type": "code",
   "execution_count": 42,
   "id": "4249e790",
   "metadata": {},
   "outputs": [],
   "source": [
    "%%sh \n",
    "zcat fhv_tripdata_2019-10.csv.gz | head -n 1001 > head.csv"
   ]
  },
  {
   "cell_type": "code",
   "execution_count": 43,
   "id": "6894312c",
   "metadata": {},
   "outputs": [],
   "source": [
    "import pandas as pd"
   ]
  },
  {
   "cell_type": "code",
   "execution_count": 44,
   "id": "f3ca771b",
   "metadata": {},
   "outputs": [],
   "source": [
    "df_pandas = pd.read_csv('head.csv')"
   ]
  },
  {
   "cell_type": "code",
   "execution_count": 45,
   "id": "f1066b4f",
   "metadata": {},
   "outputs": [
    {
     "data": {
      "text/plain": [
       "dispatching_base_num       object\n",
       "pickup_datetime            object\n",
       "dropOff_datetime           object\n",
       "PUlocationID              float64\n",
       "DOlocationID              float64\n",
       "SR_Flag                   float64\n",
       "Affiliated_base_number     object\n",
       "dtype: object"
      ]
     },
     "execution_count": 45,
     "metadata": {},
     "output_type": "execute_result"
    }
   ],
   "source": [
    "df_pandas.dtypes"
   ]
  },
  {
   "cell_type": "code",
   "execution_count": 47,
   "id": "f8413c9d",
   "metadata": {},
   "outputs": [
    {
     "name": "stdout",
     "output_type": "stream",
     "text": [
      "root\n",
      " |-- dispatching_base_num: string (nullable = true)\n",
      " |-- pickup_datetime: string (nullable = true)\n",
      " |-- dropOff_datetime: string (nullable = true)\n",
      " |-- PUlocationID: double (nullable = true)\n",
      " |-- DOlocationID: double (nullable = true)\n",
      " |-- SR_Flag: double (nullable = true)\n",
      " |-- Affiliated_base_number: string (nullable = true)\n",
      "\n"
     ]
    }
   ],
   "source": [
    "spark.createDataFrame(df_pandas).printSchema()"
   ]
  },
  {
   "cell_type": "markdown",
   "id": "80f252c1",
   "metadata": {},
   "source": [
    "Integer - 4 bytes\n",
    "<br>\n",
    "Long - 8 bytes"
   ]
  },
  {
   "cell_type": "code",
   "execution_count": 48,
   "id": "16937bfd",
   "metadata": {},
   "outputs": [],
   "source": [
    "from pyspark.sql import types"
   ]
  },
  {
   "cell_type": "code",
   "execution_count": 56,
   "id": "fc61a99a",
   "metadata": {},
   "outputs": [],
   "source": [
    "schema = types.StructType([\n",
    "    types.StructField('dispatching_base_num', types.StringType(), True),\n",
    "    types.StructField('pickup_datetime', types.TimestampType(), True),\n",
    "    types.StructField('dropoff_datetime', types.TimestampType(), True),\n",
    "    types.StructField('PULocationID', types.IntegerType(), True),\n",
    "    types.StructField('DOLocationID', types.IntegerType(), True),\n",
    "    types.StructField('SR_Flag', types.StringType(), True),\n",
    "    types.StructField('Affiliated_base_number', types.StringType(), True)\n",
    "])"
   ]
  },
  {
   "cell_type": "code",
   "execution_count": 58,
   "id": "f94052ae",
   "metadata": {},
   "outputs": [],
   "source": [
    "df = spark.read \\\n",
    "    .option(\"header\", \"true\") \\\n",
    "    .schema(schema) \\\n",
    "    .csv('fhv_tripdata_2019-10.csv.gz')"
   ]
  },
  {
   "cell_type": "code",
   "execution_count": 59,
   "id": "c270d9d6",
   "metadata": {},
   "outputs": [],
   "source": [
    "df = df.repartition(24)"
   ]
  },
  {
   "cell_type": "code",
   "execution_count": 60,
   "id": "7796c2b2",
   "metadata": {},
   "outputs": [],
   "source": [
    "df.write.parquet('04_pyspark/')"
   ]
  },
  {
   "cell_type": "code",
   "execution_count": 61,
   "id": "c3cab876",
   "metadata": {},
   "outputs": [],
   "source": [
    "df = spark.read.parquet('04_pyspark/')"
   ]
  },
  {
   "cell_type": "code",
   "execution_count": 62,
   "id": "203b5627",
   "metadata": {},
   "outputs": [
    {
     "name": "stdout",
     "output_type": "stream",
     "text": [
      "root\n",
      " |-- dispatching_base_num: string (nullable = true)\n",
      " |-- pickup_datetime: timestamp (nullable = true)\n",
      " |-- dropoff_datetime: timestamp (nullable = true)\n",
      " |-- PULocationID: integer (nullable = true)\n",
      " |-- DOLocationID: integer (nullable = true)\n",
      " |-- SR_Flag: string (nullable = true)\n",
      " |-- Affiliated_base_number: string (nullable = true)\n",
      "\n"
     ]
    }
   ],
   "source": [
    "df.printSchema()"
   ]
  },
  {
   "cell_type": "markdown",
   "id": "64172a47",
   "metadata": {},
   "source": [
    "SELECT * FROM df WHERE hvfhs_license_num =  HV0003"
   ]
  },
  {
   "cell_type": "code",
   "execution_count": 63,
   "id": "d24840a0",
   "metadata": {},
   "outputs": [],
   "source": [
    "from pyspark.sql import functions as F"
   ]
  },
  {
   "cell_type": "code",
   "execution_count": 64,
   "id": "3ab1ca44",
   "metadata": {
    "scrolled": true
   },
   "outputs": [
    {
     "name": "stdout",
     "output_type": "stream",
     "text": [
      "+--------------------+-------------------+-------------------+------------+------------+-------+----------------------+\n",
      "|dispatching_base_num|    pickup_datetime|   dropoff_datetime|PULocationID|DOLocationID|SR_Flag|Affiliated_base_number|\n",
      "+--------------------+-------------------+-------------------+------------+------------+-------+----------------------+\n",
      "|     B01467         |2019-10-06 06:28:47|2019-10-06 06:56:59|         193|          76|   NULL|       B01467         |\n",
      "|              B02735|2019-10-21 16:09:25|2019-10-21 16:18:21|         264|         254|   NULL|                B02864|\n",
      "|              B00856|2019-10-07 18:49:52|2019-10-07 18:55:37|         264|          61|   NULL|                B02878|\n",
      "|              B00112|2019-10-26 20:24:02|2019-10-26 20:33:16|         264|          67|   NULL|                B00112|\n",
      "|              B03162|2019-10-13 13:21:27|2019-10-13 14:54:12|         116|         198|   NULL|                B03162|\n",
      "|              B00445|2019-10-20 09:52:32|2019-10-20 10:05:57|         252|         138|   NULL|                B00445|\n",
      "|              B00310|2019-10-26 08:30:59|2019-10-26 08:39:55|         264|         213|   NULL|                B00310|\n",
      "|              B01087|2019-10-22 06:27:00|2019-10-22 07:07:29|         131|         230|   NULL|                B01087|\n",
      "|              B03069|2019-10-11 16:03:00|2019-10-11 17:19:00|         264|         264|   NULL|                B03069|\n",
      "|              B01239|2019-10-08 08:35:32|2019-10-08 09:00:20|         264|         174|   NULL|                B02872|\n",
      "|              B01239|2019-10-21 10:35:45|2019-10-21 10:40:08|         264|         254|   NULL|                B02876|\n",
      "|              B01285|2019-10-21 16:18:45|2019-10-21 16:30:08|         264|         247|   NULL|                B01285|\n",
      "|              B01145|2019-10-08 09:39:29|2019-10-08 09:47:59|         264|         247|   NULL|                B02765|\n",
      "|              B01328|2019-10-07 15:24:00|2019-10-07 15:34:00|          78|          78|   NULL|                B02534|\n",
      "|              B00053|2019-10-25 22:56:30|2019-10-25 23:40:52|         264|         264|   NULL|                B00053|\n",
      "|              B00256|2019-10-03 13:36:16|2019-10-03 14:33:47|         264|         264|   NULL|                B00256|\n",
      "|              B02968|2019-10-07 18:03:02|2019-10-07 18:06:06|         264|         213|   NULL|                B02968|\n",
      "|              B00911|2019-10-06 18:27:26|2019-10-06 18:36:55|         264|         174|   NULL|                B00911|\n",
      "|              B00256|2019-10-06 11:55:55|2019-10-06 12:35:36|         264|         264|   NULL|                B00256|\n",
      "|              B00647|2019-10-23 07:16:43|2019-10-23 07:38:11|         264|         126|   NULL|                B00647|\n",
      "+--------------------+-------------------+-------------------+------------+------------+-------+----------------------+\n",
      "only showing top 20 rows\n",
      "\n"
     ]
    }
   ],
   "source": [
    "df.show()"
   ]
  },
  {
   "cell_type": "code",
   "execution_count": 65,
   "id": "6d98c2ce",
   "metadata": {},
   "outputs": [],
   "source": [
    "def crazy_stuff(base_num):\n",
    "    num = int(base_num[1:])\n",
    "    if num % 7 == 0:\n",
    "        return f's/{num:03x}'\n",
    "    elif num % 3 == 0:\n",
    "        return f'a/{num:03x}'\n",
    "    else:\n",
    "        return f'e/{num:03x}'"
   ]
  },
  {
   "cell_type": "code",
   "execution_count": 71,
   "id": "f3175419",
   "metadata": {},
   "outputs": [
    {
     "data": {
      "text/plain": [
       "'s/b44'"
      ]
     },
     "execution_count": 71,
     "metadata": {},
     "output_type": "execute_result"
    }
   ],
   "source": [
    "crazy_stuff('B02884')"
   ]
  },
  {
   "cell_type": "code",
   "execution_count": 67,
   "id": "9bb5d503",
   "metadata": {},
   "outputs": [],
   "source": [
    "crazy_stuff_udf = F.udf(crazy_stuff, returnType=types.StringType())"
   ]
  },
  {
   "cell_type": "code",
   "execution_count": 78,
   "id": "a9a11858",
   "metadata": {},
   "outputs": [
    {
     "name": "stdout",
     "output_type": "stream",
     "text": [
      "+--------------------+-------------------+-------------------+------------+------------+-------+----------------------+\n",
      "|dispatching_base_num|    pickup_datetime|   dropoff_datetime|PULocationID|DOLocationID|SR_Flag|Affiliated_base_number|\n",
      "+--------------------+-------------------+-------------------+------------+------------+-------+----------------------+\n",
      "|              B01467|2019-10-06 06:28:47|2019-10-06 06:56:59|         193|          76|   NULL|       B01467         |\n",
      "|              B02735|2019-10-21 16:09:25|2019-10-21 16:18:21|         264|         254|   NULL|                B02864|\n",
      "|              B00856|2019-10-07 18:49:52|2019-10-07 18:55:37|         264|          61|   NULL|                B02878|\n",
      "|              B00112|2019-10-26 20:24:02|2019-10-26 20:33:16|         264|          67|   NULL|                B00112|\n",
      "|              B03162|2019-10-13 13:21:27|2019-10-13 14:54:12|         116|         198|   NULL|                B03162|\n",
      "|              B00445|2019-10-20 09:52:32|2019-10-20 10:05:57|         252|         138|   NULL|                B00445|\n",
      "|              B00310|2019-10-26 08:30:59|2019-10-26 08:39:55|         264|         213|   NULL|                B00310|\n",
      "|              B01087|2019-10-22 06:27:00|2019-10-22 07:07:29|         131|         230|   NULL|                B01087|\n",
      "|              B03069|2019-10-11 16:03:00|2019-10-11 17:19:00|         264|         264|   NULL|                B03069|\n",
      "|              B01239|2019-10-08 08:35:32|2019-10-08 09:00:20|         264|         174|   NULL|                B02872|\n",
      "|              B01239|2019-10-21 10:35:45|2019-10-21 10:40:08|         264|         254|   NULL|                B02876|\n",
      "|              B01285|2019-10-21 16:18:45|2019-10-21 16:30:08|         264|         247|   NULL|                B01285|\n",
      "|              B01145|2019-10-08 09:39:29|2019-10-08 09:47:59|         264|         247|   NULL|                B02765|\n",
      "|              B01328|2019-10-07 15:24:00|2019-10-07 15:34:00|          78|          78|   NULL|                B02534|\n",
      "|              B00053|2019-10-25 22:56:30|2019-10-25 23:40:52|         264|         264|   NULL|                B00053|\n",
      "|              B00256|2019-10-03 13:36:16|2019-10-03 14:33:47|         264|         264|   NULL|                B00256|\n",
      "|              B02968|2019-10-07 18:03:02|2019-10-07 18:06:06|         264|         213|   NULL|                B02968|\n",
      "|              B00911|2019-10-06 18:27:26|2019-10-06 18:36:55|         264|         174|   NULL|                B00911|\n",
      "|              B00256|2019-10-06 11:55:55|2019-10-06 12:35:36|         264|         264|   NULL|                B00256|\n",
      "|              B00647|2019-10-23 07:16:43|2019-10-23 07:38:11|         264|         126|   NULL|                B00647|\n",
      "+--------------------+-------------------+-------------------+------------+------------+-------+----------------------+\n",
      "only showing top 20 rows\n",
      "\n"
     ]
    }
   ],
   "source": [
    "df = df.withColumn('dispatching_base_num', F.trim(df.dispatching_base_num))\n",
    "df.show()"
   ]
  },
  {
   "cell_type": "code",
   "execution_count": 79,
   "id": "b38f0465",
   "metadata": {
    "scrolled": true
   },
   "outputs": [],
   "source": [
    "df2 = (df\n",
    ".withColumn('pickup_date', F.to_date(df.pickup_datetime))\n",
    ".withColumn('dropoff_date', F.to_date(df.dropoff_datetime)) \n",
    ".withColumn('base_id', crazy_stuff_udf(df.dispatching_base_num))\n",
    ".select('base_id', 'pickup_date', 'dropoff_date', 'PULocationID', 'DOLocationID'))"
   ]
  },
  {
   "cell_type": "code",
   "execution_count": 81,
   "id": "a7afee52",
   "metadata": {},
   "outputs": [
    {
     "name": "stdout",
     "output_type": "stream",
     "text": [
      "+--------------------+-------------------+-------------------+------------+------------+-------+----------------------+\n",
      "|dispatching_base_num|    pickup_datetime|   dropoff_datetime|PULocationID|DOLocationID|SR_Flag|Affiliated_base_number|\n",
      "+--------------------+-------------------+-------------------+------------+------------+-------+----------------------+\n",
      "|              B01467|2019-10-06 06:28:47|2019-10-06 06:56:59|         193|          76|   NULL|       B01467         |\n",
      "|              B02735|2019-10-21 16:09:25|2019-10-21 16:18:21|         264|         254|   NULL|                B02864|\n",
      "|              B00856|2019-10-07 18:49:52|2019-10-07 18:55:37|         264|          61|   NULL|                B02878|\n",
      "|              B00112|2019-10-26 20:24:02|2019-10-26 20:33:16|         264|          67|   NULL|                B00112|\n",
      "|              B03162|2019-10-13 13:21:27|2019-10-13 14:54:12|         116|         198|   NULL|                B03162|\n",
      "|              B00445|2019-10-20 09:52:32|2019-10-20 10:05:57|         252|         138|   NULL|                B00445|\n",
      "|              B00310|2019-10-26 08:30:59|2019-10-26 08:39:55|         264|         213|   NULL|                B00310|\n",
      "|              B01087|2019-10-22 06:27:00|2019-10-22 07:07:29|         131|         230|   NULL|                B01087|\n",
      "|              B03069|2019-10-11 16:03:00|2019-10-11 17:19:00|         264|         264|   NULL|                B03069|\n",
      "|              B01239|2019-10-08 08:35:32|2019-10-08 09:00:20|         264|         174|   NULL|                B02872|\n",
      "|              B01239|2019-10-21 10:35:45|2019-10-21 10:40:08|         264|         254|   NULL|                B02876|\n",
      "|              B01285|2019-10-21 16:18:45|2019-10-21 16:30:08|         264|         247|   NULL|                B01285|\n",
      "|              B01145|2019-10-08 09:39:29|2019-10-08 09:47:59|         264|         247|   NULL|                B02765|\n",
      "|              B01328|2019-10-07 15:24:00|2019-10-07 15:34:00|          78|          78|   NULL|                B02534|\n",
      "|              B00053|2019-10-25 22:56:30|2019-10-25 23:40:52|         264|         264|   NULL|                B00053|\n",
      "|              B00256|2019-10-03 13:36:16|2019-10-03 14:33:47|         264|         264|   NULL|                B00256|\n",
      "|              B02968|2019-10-07 18:03:02|2019-10-07 18:06:06|         264|         213|   NULL|                B02968|\n",
      "|              B00911|2019-10-06 18:27:26|2019-10-06 18:36:55|         264|         174|   NULL|                B00911|\n",
      "|              B00256|2019-10-06 11:55:55|2019-10-06 12:35:36|         264|         264|   NULL|                B00256|\n",
      "|              B00647|2019-10-23 07:16:43|2019-10-23 07:38:11|         264|         126|   NULL|                B00647|\n",
      "+--------------------+-------------------+-------------------+------------+------------+-------+----------------------+\n",
      "only showing top 20 rows\n",
      "\n"
     ]
    }
   ],
   "source": [
    "df.show()"
   ]
  },
  {
   "cell_type": "code",
   "execution_count": 83,
   "id": "00921644",
   "metadata": {},
   "outputs": [
    {
     "name": "stdout",
     "output_type": "stream",
     "text": [
      "+-------------------+-------------------+------------+------------+\n",
      "|    pickup_datetime|   dropoff_datetime|PULocationID|DOLocationID|\n",
      "+-------------------+-------------------+------------+------------+\n",
      "|2019-10-21 08:16:35|2019-10-21 08:51:25|         264|         242|\n",
      "|2019-10-16 06:12:16|2019-10-16 06:36:21|         264|         136|\n",
      "|2019-10-25 14:23:19|2019-10-25 14:51:04|         264|         265|\n",
      "|2019-10-23 10:30:01|2019-10-23 10:51:07|         264|         242|\n",
      "|2019-10-18 08:24:23|2019-10-18 08:34:23|         264|         254|\n",
      "|2019-10-15 13:39:49|2019-10-15 14:15:11|         264|          74|\n",
      "|2019-10-02 11:11:33|2019-10-02 11:18:59|         264|         242|\n",
      "|2019-10-27 06:54:41|2019-10-27 07:02:12|         264|         242|\n",
      "|2019-10-19 10:43:05|2019-10-19 10:55:45|         264|         212|\n",
      "|2019-10-02 20:33:27|2019-10-02 20:40:49|         264|          32|\n",
      "|2019-10-28 14:51:31|2019-10-28 15:18:22|         264|         185|\n",
      "|2019-10-12 19:58:59|2019-10-12 20:06:27|         264|         254|\n",
      "|2019-10-15 08:59:29|2019-10-15 09:23:36|         264|         174|\n",
      "|2019-10-27 13:54:48|2019-10-27 14:09:04|         264|          18|\n",
      "|2019-10-03 15:27:56|2019-10-03 15:38:44|         264|         174|\n",
      "|2019-10-04 11:32:01|2019-10-04 11:45:10|         264|           3|\n",
      "|2019-10-12 21:13:15|2019-10-12 21:22:11|         264|          81|\n",
      "|2019-10-17 09:58:04|2019-10-17 10:01:40|         264|         254|\n",
      "|2019-10-23 17:52:06|2019-10-23 18:22:01|         264|         174|\n",
      "|2019-10-06 23:15:33|2019-10-06 23:34:30|         264|         259|\n",
      "+-------------------+-------------------+------------+------------+\n",
      "only showing top 20 rows\n",
      "\n"
     ]
    }
   ],
   "source": [
    "df.select('pickup_datetime', 'dropoff_datetime', 'PULocationID', 'DOLocationID') \\\n",
    "  .filter(df.dispatching_base_num == 'B03016').show()"
   ]
  }
 ],
 "metadata": {
  "kernelspec": {
   "display_name": "Python 3 (ipykernel)",
   "language": "python",
   "name": "python3"
  },
  "language_info": {
   "codemirror_mode": {
    "name": "ipython",
    "version": 3
   },
   "file_extension": ".py",
   "mimetype": "text/x-python",
   "name": "python",
   "nbconvert_exporter": "python",
   "pygments_lexer": "ipython3",
   "version": "3.12.1"
  }
 },
 "nbformat": 4,
 "nbformat_minor": 5
}
